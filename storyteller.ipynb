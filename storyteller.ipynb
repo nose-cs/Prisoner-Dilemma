{
 "cells": [
  {
   "cell_type": "code",
   "execution_count": null,
   "metadata": {},
   "outputs": [],
   "source": [
    "from src.storyteller import StoryTeller\n",
    "\n",
    "storyteller = StoryTeller()"
   ]
  },
  {
   "cell_type": "code",
   "execution_count": null,
   "metadata": {},
   "outputs": [],
   "source": [
    "from src.players import BadGuy, AdaptiveEyeForEye\n",
    "from src.generate_players import assign_names\n",
    "\n",
    "players = [\n",
    "    BadGuy(),\n",
    "    AdaptiveEyeForEye()\n",
    "]\n",
    "players = assign_names(players)\n",
    "storyteller.tell_round_story('El dilema de los cazadores', players[0], players[1], 1, 0)"
   ]
  },
  {
   "cell_type": "code",
   "execution_count": null,
   "metadata": {},
   "outputs": [],
   "source": [
    "from src.players import BadGuy, AdaptiveEyeForEye\n",
    "from src.generate_players import assign_names\n",
    "\n",
    "players = [\n",
    "    BadGuy(),\n",
    "    AdaptiveEyeForEye()\n",
    "]\n",
    "players = assign_names(players)\n",
    "storyteller.tell_match_story(['El dilema de los cazadores', 'Dilema del prisionero', 'La guerra de los sexos'], players[0], players[1], [(1, 0), (0, 0), (0,0)], description=\"historia épica\")"
   ]
  }
 ],
 "metadata": {
  "language_info": {
   "name": "python"
  }
 },
 "nbformat": 4,
 "nbformat_minor": 2
}
