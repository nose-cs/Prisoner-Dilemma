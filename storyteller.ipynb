{
 "cells": [
  {
   "cell_type": "code",
   "execution_count": null,
   "metadata": {},
   "outputs": [],
   "source": [
    "from src.storyteller import StoryTeller\n",
    "\n",
    "storyteller = StoryTeller()"
   ]
  },
  {
   "cell_type": "code",
   "execution_count": null,
   "metadata": {},
   "outputs": [],
   "source": [
    "from src.players import BadGuy, AdaptiveEyeForEye\n",
    "from src.generate_players import assign_names\n",
    "\n",
    "players = [\n",
    "    BadGuy(),\n",
    "    AdaptiveEyeForEye()\n",
    "]\n",
    "players = assign_names(players)\n",
    "storyteller.tell_round_story('El dilema de los cazadores', players[0], players[1], 1, 0)"
   ]
  },
  {
   "cell_type": "code",
   "execution_count": null,
   "metadata": {},
   "outputs": [],
   "source": [
    "from src.players import BadGuy, AdaptiveEyeForEye\n",
    "from src.generate_players import assign_names\n",
    "\n",
    "players = [\n",
    "    BadGuy(),\n",
    "    AdaptiveEyeForEye()\n",
    "]\n",
    "players = assign_names(players)\n",
    "storyteller.tell_match_story(['Resolución de disputas en el sector de bienes raíces', 'Dilema del prisionero', 'La guerra de los sexos'], players[0], players[1], [(1, 0), (0, 0), (0,0)], description=\"historia épica\")"
   ]
  }
 ],
 "metadata": {
  "kernelspec": {
   "display_name": "anabelbg",
   "language": "python",
   "name": "python3"
  },
  "language_info": {
   "codemirror_mode": {
    "name": "ipython",
    "version": 3
   },
   "file_extension": ".py",
   "mimetype": "text/x-python",
   "name": "python",
   "nbconvert_exporter": "python",
   "pygments_lexer": "ipython3",
   "version": "3.9.13"
  }
 },
 "nbformat": 4,
 "nbformat_minor": 2
}
