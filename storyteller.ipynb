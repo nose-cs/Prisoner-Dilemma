{
 "cells": [
  {
   "cell_type": "code",
   "execution_count": null,
   "metadata": {},
   "outputs": [],
   "source": [
    "from src.storyteller import StoryTeller\n",
    "\n",
    "storyteller = StoryTeller()"
   ]
  },
  {
   "cell_type": "code",
   "execution_count": null,
   "metadata": {},
   "outputs": [],
   "source": [
    "from src.players import BadGuy, AdaptiveEyeForEye\n",
    "from src.generate_players import assign_names\n",
    "\n",
    "players = [\n",
    "    BadGuy(),\n",
    "    AdaptiveEyeForEye()\n",
    "]\n",
    "players = assign_names(players)\n",
    "storyteller.tell_round_story('El dilema de los cazadores', players[0], players[1], 1, 0)"
   ]
  },
  {
   "cell_type": "code",
   "execution_count": null,
   "metadata": {},
   "outputs": [],
   "source": [
    "from src.players import BadGuy, AdaptiveEyeForEye\n",
    "from src.generate_players import assign_names\n",
    "\n",
    "players = [\n",
    "    BadGuy(),\n",
    "    AdaptiveEyeForEye()\n",
    "]\n",
    "players = assign_names(players)\n",
    "storyteller.tell_match_story(['Resolución de disputas en el sector de bienes raíces', 'Dilema del prisionero', 'La guerra de los sexos'], players[0], players[1], [(1, 0), (0, 0), (0,0)], description=\"historia épica\")"
   ]
  },
  {
   "cell_type": "code",
   "execution_count": null,
   "metadata": {},
   "outputs": [],
   "source": [
    "from src.game import Tournament\n",
    "\n",
    "def describe_match_between_winner_and_loser(tournament: Tournament, story_description: str = 'historia breve'):\n",
    "    winner_index = tournament.scores.index(max(tournament.scores))\n",
    "    loser_index = tournament.scores.index(min(tournament.scores))\n",
    "\n",
    "    if winner_index == loser_index:\n",
    "        return\n",
    "\n",
    "    matrix_actions = {}\n",
    "    for matrix_structure in tournament.matrices:\n",
    "        if matrix_structure.vector1 not in matrix_actions:\n",
    "            # Check if the player has played matrix1\n",
    "            if matrix_structure.vector1 in tournament.history.get((winner_index, loser_index), {}):\n",
    "                loser_actions = tournament.history[(winner_index, loser_index)][matrix_structure.vector2]\n",
    "                winner_actions = tournament.history[(loser_index, winner_index)][matrix_structure.vector1]\n",
    "                count = len(winner_actions)\n",
    "                matrix_actions[matrix_structure.vector1] = (matrix_structure.matrix_title, zip(winner_actions, loser_actions), count)\n",
    "        # Check if its not a symmetric game\n",
    "        if matrix_structure.matrix1 != matrix_structure.matrix2 and matrix_structure.vector2 not in matrix_actions:\n",
    "            if matrix_structure.vector2 in tournament.history.get((winner_index, loser_index), {}):\n",
    "                loser_actions = tournament.history[(winner_index, loser_index)][matrix_structure.vector1]\n",
    "                winner_actions = tournament.history[(loser_index, winner_index)][matrix_structure.vector2]\n",
    "                count = len(winner_actions)\n",
    "                matrix_actions[matrix_structure.vector2] = (matrix_structure.matrix_title, zip(winner_actions, loser_actions), count)\n",
    "\n",
    "    matrices_titles= []\n",
    "    actions = []\n",
    "    for _, value in matrix_actions.items():\n",
    "        matrix_title = value[0]\n",
    "        count = value[2]\n",
    "        actions_in_matrix = value[1]\n",
    "        matrices_titles.extend([matrix_title] * count)\n",
    "        actions.extend(actions_in_matrix)\n",
    "    \n",
    "    return storyteller.tell_match_story(matrices_titles, tournament.players[winner_index], tournament.players[loser_index], actions, description=story_description)\n",
    "\n"
   ]
  },
  {
   "cell_type": "code",
   "execution_count": 4,
   "metadata": {},
   "outputs": [],
   "source": [
    "from src.players import RandomGuy, BadGuy, GoodGuy, EyeForEye, AdaptiveEyeForEye, SimpleMetaHeuristicGuy, GeneticGuy, NashGuy, FuzzyEyeForEye\n",
    "from src.generate_matrix import get_matrices\n",
    "from src.generate_players import assign_names\n",
    "from src.game import Tournament\n",
    "import src.players.fuzzy_metrics as metrics\n",
    "from src.game import Tournament, print_tournament_results\n",
    "\n",
    "players = assign_names([GoodGuy(),\n",
    "                        RandomGuy(), \n",
    "                        RandomGuy(), \n",
    "                        EyeForEye(), \n",
    "                        EyeForEye(),\n",
    "                        EyeForEye(),\n",
    "                        BadGuy(),\n",
    "                        BadGuy()])\n",
    "\n",
    "matrices = get_matrices([\"Dilema del prisionero\"] * 3)\n",
    "\n",
    "tournament = Tournament(players, matrices)\n",
    "\n",
    "tournament.play()\n",
    "print_tournament_results(tournament)\n",
    "print(\"Story\" + \"-\" * 50)\n",
    "describe_match_between_winner_and_loser(tournament)"
   ]
  }
 ],
 "metadata": {
  "kernelspec": {
   "display_name": "anabelbg",
   "language": "python",
   "name": "python3"
  },
  "language_info": {
   "codemirror_mode": {
    "name": "ipython",
    "version": 3
   },
   "file_extension": ".py",
   "mimetype": "text/x-python",
   "name": "python",
   "nbconvert_exporter": "python",
   "pygments_lexer": "ipython3",
   "version": "3.9.13"
  }
 },
 "nbformat": 4,
 "nbformat_minor": 2
}
