{
 "cells": [
  {
   "cell_type": "code",
   "execution_count": null,
   "metadata": {},
   "outputs": [],
   "source": [
    "from src.players import Player, Random, BadGuy, GoodGuy, EyeForEye, AdaptiveEyeForEye, SimpleMetaHeuristicGuy, GeneticGuy\n",
    "from src.game import play_tournament"
   ]
  },
  {
   "cell_type": "code",
   "execution_count": null,
   "metadata": {},
   "outputs": [],
   "source": [
    "# Matriz de pagos\n",
    "def matriz_de_pagos(accion1, accion2):\n",
    "    if accion1 == 'C' and accion2 == 'C':\n",
    "        return (1, 1)\n",
    "    if accion1 == 'C' and accion2 == 'T':\n",
    "        return (5, 0)\n",
    "    if accion1 == 'T' and accion2 == 'C':\n",
    "        return (0, 5)\n",
    "    if accion1 == 'T' and accion2 == 'T':\n",
    "        return (3, 3)\n",
    "\n",
    "goodguys = [GoodGuy() for i in range(3)]\n",
    "badguys = [BadGuy() for i in range(3)]\n",
    "eyeforeyes = [EyeForEye() for i in range(3)]\n",
    "adaptiveeyeforeyes = [AdaptiveEyeForEye() for i in range(3)]\n",
    "randoms = [Random() for i in range(3)]\n",
    "metaguys = [SimpleMetaHeuristicGuy() for i in range(3)]\n",
    "\n",
    "players: list[Player] = []\n",
    "players.extend(goodguys)\n",
    "players.extend(badguys)\n",
    "players.extend(eyeforeyes)\n",
    "players.extend(adaptiveeyeforeyes)\n",
    "players.extend(randoms)\n",
    "players.extend(metaguys)\n",
    "\n",
    "geneticguy = GeneticGuy(play_tournament, 10, players)\n",
    "\n",
    "players.append(geneticguy)\n",
    "\n",
    "play_tournament(players, 10)\n",
    "\n",
    "# Imprimir los resultados\n",
    "for i, player in enumerate(players):\n",
    "    print(f\"Player {i + 1} ({player.__class__.__name__}): {player.years} prision years\")\n"
   ]
  }
 ],
 "metadata": {
  "kernelspec": {
   "display_name": ".venv",
   "language": "python",
   "name": "python3"
  },
  "language_info": {
   "codemirror_mode": {
    "name": "ipython",
    "version": 3
   },
   "file_extension": ".py",
   "mimetype": "text/x-python",
   "name": "python",
   "nbconvert_exporter": "python",
   "pygments_lexer": "ipython3",
   "version": "3.9.13"
  }
 },
 "nbformat": 4,
 "nbformat_minor": 2
}
