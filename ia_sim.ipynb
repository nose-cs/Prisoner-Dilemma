{
 "cells": [
  {
   "cell_type": "code",
   "execution_count": 1,
   "metadata": {},
   "outputs": [],
   "source": [
    "from players.player import Player\n",
    "from players.random import Random\n",
    "from players.good_guy import GoodGuy\n",
    "from players.bad_guy import BadGuy\n",
    "from players.eye_for_eye import EyeForEye\n",
    "from players.meta_heuristic_guy import SimpleMetaHeuristicGuy"
   ]
  },
  {
   "cell_type": "code",
   "execution_count": 19,
   "metadata": {},
   "outputs": [
    {
     "name": "stdout",
     "output_type": "stream",
     "text": [
      "Player 1 (BadGuy): 20976 prision years\n",
      "Player 2 (BadGuy): 20352 prision years\n",
      "Player 3 (BadGuy): 20895 prision years\n",
      "Player 4 (EyeForEye): 18318 prision years\n",
      "Player 5 (EyeForEye): 18659 prision years\n",
      "Player 6 (EyeForEye): 18501 prision years\n",
      "Player 7 (SimpleMetaHeuristicGuy): 23627 prision years\n",
      "Player 8 (SimpleMetaHeuristicGuy): 23707 prision years\n",
      "Player 9 (SimpleMetaHeuristicGuy): 23667 prision years\n"
     ]
    }
   ],
   "source": [
    "# Matriz de pagos\n",
    "def matriz_de_pagos(accion1, accion2):\n",
    "    if accion1 == 'C' and accion2 == 'C':\n",
    "        return (1, 1)\n",
    "    if accion1 == 'C' and accion2 == 'T':\n",
    "        return (5, 0)\n",
    "    if accion1 == 'T' and accion2 == 'C':\n",
    "        return (0, 5)\n",
    "    if accion1 == 'T' and accion2 == 'T':\n",
    "        return (3, 3)\n",
    "\n",
    "# Play one round among two players\n",
    "def play_round(player1: Player, player2: Player, history1, history2, full_history1, full_history2):\n",
    "    action1 = player1.play(full_history2, history2)\n",
    "    action2 = player2.play(full_history1, history1)\n",
    "    return (action1, action2), matriz_de_pagos(action1, action2)\n",
    "\n",
    "# Simulate tournament\n",
    "def play_tournament(players: list[Player], num_rounds=1000):\n",
    "    \n",
    "    history = [[[] for j in range(len(players))] for i in range(len(players))]\n",
    "\n",
    "    for _ in range(num_rounds):\n",
    "        for i in range(len(players)):\n",
    "            for j in range(i + 1, len(players)):\n",
    "                player1 = players[i]\n",
    "                player2 = players[j]\n",
    "                \n",
    "                round_result = play_round(player1, player2, history[i][j], history[j][i], history[i], history[j])\n",
    "                \n",
    "                player1.sum_years(round_result[0][0], round_result[1][0])\n",
    "                player2.sum_years(round_result[0][1], round_result[1][1])\n",
    "\n",
    "                history[i][j].append(round_result[0][0])\n",
    "                history[j][i].append(round_result[0][1])\n",
    "\n",
    "goodguys = [GoodGuy() for i in range(0)]\n",
    "badguys = [BadGuy() for i in range(3)]\n",
    "eyeforeyes = [EyeForEye() for i in range(3)]\n",
    "randoms = [Random() for i in range(0)]\n",
    "metaguys = [SimpleMetaHeuristicGuy() for i in range(3)]\n",
    "\n",
    "players: list[Player] = []\n",
    "players.extend(goodguys)\n",
    "players.extend(badguys)\n",
    "players.extend(eyeforeyes)\n",
    "players.extend(randoms)\n",
    "players.extend(metaguys)\n",
    "\n",
    "play_tournament(players, 1000)\n",
    "\n",
    "# Imprimir los resultados\n",
    "for i, player in enumerate(players):\n",
    "    print(f\"Player {i + 1} ({player.__class__.__name__}): {player.years} prision years\")\n"
   ]
  }
 ],
 "metadata": {
  "kernelspec": {
   "display_name": ".venv",
   "language": "python",
   "name": "python3"
  },
  "language_info": {
   "codemirror_mode": {
    "name": "ipython",
    "version": 3
   },
   "file_extension": ".py",
   "mimetype": "text/x-python",
   "name": "python",
   "nbconvert_exporter": "python",
   "pygments_lexer": "ipython3",
   "version": "3.12.0"
  }
 },
 "nbformat": 4,
 "nbformat_minor": 2
}
