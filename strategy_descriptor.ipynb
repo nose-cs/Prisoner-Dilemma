{
 "cells": [
  {
   "cell_type": "code",
   "execution_count": null,
   "metadata": {},
   "outputs": [],
   "source": [
    "from src.storyteller import Stratascriptor\n",
    "from src.game import Tournament\n",
    "\n",
    "descriptor = Stratascriptor()"
   ]
  },
  {
   "cell_type": "code",
   "execution_count": null,
   "metadata": {},
   "outputs": [],
   "source": [
    "def describe_strategy(tournament: Tournament, player_index: int):\n",
    "    for i in range(len(tournament.players)):\n",
    "        if i == player_index:\n",
    "            continue\n",
    "        matrix_actions = {}\n",
    "        for matrix_structure in tournament.matrices:\n",
    "            if matrix_structure.vector1 not in matrix_actions:\n",
    "                # Check if the player has played matrix1\n",
    "                if matrix_structure.vector1 in tournament.history.get((player_index, i), {}):\n",
    "                    opponent_actions = tournament.history[(i, player_index)][matrix_structure.vector2]\n",
    "                    mine_actions = tournament.history[(player_index, i)][matrix_structure.vector1]\n",
    "                    matrix_actions[matrix_structure.vector1] = (matrix_structure.matrix1, zip(mine_actions, opponent_actions))\n",
    "            # Check if its not a symmetric game\n",
    "            if matrix_structure.matrix1 != matrix_structure.matrix2 and matrix_structure.vector2 not in matrix_actions:\n",
    "                if matrix_structure.vector2 in tournament.history.get((player_index, i), {}):\n",
    "                    opponent_actions = tournament.history[(i, player_index)][matrix_structure.vector1]\n",
    "                    mine_actions = tournament.history[(player_index, i)][matrix_structure.vector2]\n",
    "                    matrix_actions[matrix_structure.vector2] = (matrix_structure.matrix2, zip(mine_actions, opponent_actions))\n",
    "\n",
    "        matrices = []\n",
    "        for _, value in matrix_actions.items():\n",
    "            matrices.append(value)\n",
    "\n",
    "        yield descriptor.describe_strategy(matrices)\n"
   ]
  },
  {
   "cell_type": "code",
   "execution_count": null,
   "metadata": {},
   "outputs": [],
   "source": [
    "from src.players import Player, Random, BadGuy, GoodGuy, EyeForEye, AdaptiveEyeForEye, SimpleMetaHeuristicGuy, GeneticGuy, NashGuy, FuzzyEyeForEye\n",
    "from src.generate_matrix import get_matrices\n",
    "from src.game import Tournament\n",
    "import src.players.metrics as metrics\n",
    "\n",
    "matrices = []\n",
    "for element in get_matrices([\"Dilema del prisionero\"]):\n",
    "        for _ in range(1000):\n",
    "                matrices.append(element)\n",
    "  \n",
    "\n",
    "players = [\n",
    "        GeneticGuy(),\n",
    "        Random()\n",
    "        ]\n",
    "\n",
    "tournament = Tournament(players, matrices)\n",
    "\n",
    "tournament.play()\n",
    "for strategy_desc in describe_strategy(tournament, 0):\n",
    "        print(strategy_desc)"
   ]
  },
  {
   "cell_type": "code",
   "execution_count": null,
   "metadata": {},
   "outputs": [],
   "source": [
    "winner = tournament.get_winner()\n",
    "print(winner.__class__.__name__, winner.score)\n",
    "\n",
    "loser = tournament.get_loser()\n",
    "print(loser.__class__.__name__, loser.score)"
   ]
  }
 ],
 "metadata": {
  "kernelspec": {
   "display_name": "anabelbg",
   "language": "python",
   "name": "python3"
  },
  "language_info": {
   "codemirror_mode": {
    "name": "ipython",
    "version": 3
   },
   "file_extension": ".py",
   "mimetype": "text/x-python",
   "name": "python",
   "nbconvert_exporter": "python",
   "pygments_lexer": "ipython3",
   "version": "3.9.13"
  }
 },
 "nbformat": 4,
 "nbformat_minor": 2
}
