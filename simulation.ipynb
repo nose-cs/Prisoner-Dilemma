{
 "cells": [
  {
   "cell_type": "markdown",
   "metadata": {},
   "source": [
    "### Ejemplo de cómo crear cada jugador"
   ]
  },
  {
   "cell_type": "markdown",
   "metadata": {},
   "source": [
    "#### Estrategias clásicas"
   ]
  },
  {
   "cell_type": "code",
   "execution_count": 1,
   "metadata": {},
   "outputs": [],
   "source": [
    "from src.players import BadGuy, Random, EyeForEye, GoodGuy, AdaptiveEyeForEye\n",
    "\n",
    "random_guy = Random()\n",
    "bad_guy = BadGuy()\n",
    "good_guy = GoodGuy()\n",
    "eye_for_eye = EyeForEye()\n",
    "multiple_eye_for_eye = AdaptiveEyeForEye()"
   ]
  },
  {
   "cell_type": "markdown",
   "metadata": {},
   "source": [
    "#### Nuestras estrategias"
   ]
  },
  {
   "cell_type": "code",
   "execution_count": 2,
   "metadata": {},
   "outputs": [],
   "source": [
    "from src.players import FuzzyEyeForEye, FuzzyDeterministicEyeForEye, NashGuy, SimpleMetaHeuristicGuy, GeneticGuy\n",
    "import src.players.metrics as metrics\n",
    "\n",
    "fuzzy1 = FuzzyEyeForEye(metrics.FuzzyFunctions.envy)\n",
    "fuzzy2 = FuzzyEyeForEye(metrics.FuzzyFunctions.sub_joint)\n",
    "fuzzy3 = FuzzyEyeForEye(metrics.FuzzyFunctions.dif_sum_rows)\n",
    "fuzzy_deterministic1= FuzzyDeterministicEyeForEye(metrics.FuzzyFunctions.envy)\n",
    "fuzzy_deterministic2 = FuzzyDeterministicEyeForEye(metrics.FuzzyFunctions.sub_joint)\n",
    "fuzzy_deterministic3 = FuzzyDeterministicEyeForEye(metrics.FuzzyFunctions.dif_sum_rows)\n",
    "nash_guy = NashGuy()\n",
    "simple_metaheuristic = SimpleMetaHeuristicGuy()\n",
    "genetic_guy = GeneticGuy()"
   ]
  },
  {
   "cell_type": "markdown",
   "metadata": {},
   "source": [
    "### Ejemplo de cómo obtener las matrices"
   ]
  },
  {
   "cell_type": "markdown",
   "metadata": {},
   "source": [
    "#### Especificando matrices\n",
    "\n",
    "En `src/data.json` puedes encontrar nuestra base de datos de matrices, para usarlas en el torneo simplemente debes pasar una lista con los title que aparecen en el JSON para las matrices que desea a la función siguiente."
   ]
  },
  {
   "cell_type": "code",
   "execution_count": null,
   "metadata": {},
   "outputs": [],
   "source": [
    "from src.generate_matrix import get_matrices\n",
    "\n",
    "matrices = get_matrices([\"Resolución de disputas en el sector de bienes raíces\",  \"Dilema del prisionero\"])"
   ]
  },
  {
   "cell_type": "markdown",
   "metadata": {},
   "source": [
    "#### Usando matrices random\n",
    "\n",
    "Para obtener n matrices aleatorias de nuestra base de datos simplemente llame a la función como se muestra a continuación."
   ]
  },
  {
   "cell_type": "code",
   "execution_count": null,
   "metadata": {},
   "outputs": [],
   "source": [
    "from src.generate_matrix import get_random_matrices\n",
    "\n",
    "matrices = get_random_matrices(count = 1000)"
   ]
  },
  {
   "cell_type": "markdown",
   "metadata": {},
   "source": [
    "### Ejemplo de cómo crear un torneo\n",
    "\n",
    "Para ejemplificar cómo crear un torneo, definimos un torneo clásico del dilema del prisionero.\n",
    "\n",
    "Corriendo las 2 celdas de esta sección corre la simulación, si desea probar otras combinaciones de torneo simplemente \n",
    "cambie los jugadores o matrices a su antojo."
   ]
  },
  {
   "cell_type": "code",
   "execution_count": 1,
   "metadata": {},
   "outputs": [],
   "source": [
    "from src.game import Tournament\n",
    "\n",
    "def print_tournament_results(tournament: Tournament, index: int=0):\n",
    "    print(\"-\" * 50 + \"Tournament \" + str(index + 1) + \"-\" * 50)\n",
    "\n",
    "    player_name = lambda player, i: player.name if player.name else f\"Player {i + 1}\"\n",
    "\n",
    "    print(\"Scores:\" + \"-\" * 50)\n",
    "    for i, player in enumerate(tournament.players):\n",
    "        print(f\"{player_name(player, i)} ({player.__class__.__name__}): {player.score} score\")\n",
    "\n",
    "    winner = tournament.get_winner()\n",
    "    print(\"Winner:\" + \"-\" * 50)\n",
    "    print(\n",
    "        f\"{player_name(winner, tournament.players.index(winner))} ({winner.__class__.__name__}): {winner.score} score\")\n",
    "\n",
    "    loser = tournament.get_loser()\n",
    "    print(\"Loser:\" + \"-\" * 50)\n",
    "    print(f\"{player_name(loser, tournament.players.index(loser))} ({loser.__class__.__name__}): {loser.score} score\")"
   ]
  },
  {
   "cell_type": "code",
   "execution_count": 5,
   "metadata": {},
   "outputs": [
    {
     "name": "stdout",
     "output_type": "stream",
     "text": [
      "--------------------------------------------------Tournament 2--------------------------------------------------\n",
      "Scores:--------------------------------------------------\n",
      "Leandro (GoodGuy): 164 score\n",
      "Óliver (Random): 181 score\n",
      "Diana (Random): 174 score\n",
      "Beatriz (EyeForEye): 205 score\n",
      "Isabel (EyeForEye): 207 score\n",
      "Sergio (EyeForEye): 217 score\n",
      "Lorena (BadGuy): 212 score\n",
      "Gonzalo (BadGuy): 203 score\n",
      "Winner:--------------------------------------------------\n",
      "Sergio (EyeForEye): 217 score\n",
      "Loser:--------------------------------------------------\n",
      "Leandro (GoodGuy): 164 score\n"
     ]
    }
   ],
   "source": [
    "from src.generate_players import assign_names\n",
    "from src.players import BadGuy, Random, EyeForEye, GoodGuy, AdaptiveEyeForEye, FuzzyEyeForEye, FuzzyDeterministicEyeForEye, NashGuy, SimpleMetaHeuristicGuy, GeneticGuy\n",
    "import src.players.metrics as metrics\n",
    "from src.generate_matrix import get_random_matrices, get_matrices\n",
    "\n",
    "\n",
    "players = assign_names([GoodGuy(),\n",
    "                        Random(), \n",
    "                        Random(), \n",
    "                        EyeForEye(), \n",
    "                        EyeForEye(),\n",
    "                        EyeForEye(),\n",
    "                        BadGuy(),\n",
    "                        BadGuy()])\n",
    "\n",
    "matrices = get_matrices([\"Dilema del prisionero\"] * 10)\n",
    "\n",
    "tournament = Tournament(players, matrices)\n",
    "\n",
    "for i in range(1):\n",
    "    tournament.play()\n",
    "    print_tournament_results(tournament, i + 1)"
   ]
  }
 ],
 "metadata": {
  "kernelspec": {
   "display_name": "Python 3",
   "language": "python",
   "name": "python3"
  },
  "language_info": {
   "codemirror_mode": {
    "name": "ipython",
    "version": 3
   },
   "file_extension": ".py",
   "mimetype": "text/x-python",
   "name": "python",
   "nbconvert_exporter": "python",
   "pygments_lexer": "ipython3",
   "version": "3.9.13"
  }
 },
 "nbformat": 4,
 "nbformat_minor": 2
}
