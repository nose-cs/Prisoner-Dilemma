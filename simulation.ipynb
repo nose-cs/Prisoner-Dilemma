{
 "cells": [
  {
   "cell_type": "code",
   "execution_count": null,
   "metadata": {},
   "outputs": [],
   "source": [
    "from src.players import Player, Random, BadGuy, GoodGuy, EyeForEye, AdaptiveEyeForEye, SimpleMetaHeuristicGuy, GeneticGuy\n",
    "from src.generate_matrix import generate_matrix\n",
    "from src.game import play_tournament"
   ]
  },
  {
   "cell_type": "code",
   "execution_count": null,
   "metadata": {},
   "outputs": [],
   "source": [
    "geneticguy = GeneticGuy()"
   ]
  },
  {
   "cell_type": "code",
   "execution_count": null,
   "metadata": {},
   "outputs": [],
   "source": [
    "geneticguy2 = GeneticGuy()"
   ]
  },
  {
   "cell_type": "code",
   "execution_count": null,
   "metadata": {},
   "outputs": [],
   "source": [
    "import random\n",
    "\n",
    "\n",
    "matrices = []\n",
    "\n",
    "for i in range(50):\n",
    "    matrices.append(generate_matrix())\n",
    "\n",
    "players = [geneticguy2,\n",
    "          geneticguy]\n",
    "\n",
    "for i in range(1):\n",
    "    play_tournament(players, matrices)\n",
    "\n",
    "for i, player in enumerate(players):\n",
    "    print(f\"Player {i + 1} ({player.__class__.__name__}): {player.score} score\")"
   ]
  }
 ],
 "metadata": {
  "kernelspec": {
   "display_name": "Python 3",
   "language": "python",
   "name": "python3"
  },
  "language_info": {
   "codemirror_mode": {
    "name": "ipython",
    "version": 3
   },
   "file_extension": ".py",
   "mimetype": "text/x-python",
   "name": "python",
   "nbconvert_exporter": "python",
   "pygments_lexer": "ipython3",
   "version": "3.9.13"
  }
 },
 "nbformat": 4,
 "nbformat_minor": 2
}
