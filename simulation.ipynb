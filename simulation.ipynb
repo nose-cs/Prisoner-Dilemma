{
 "cells": [
  {
   "cell_type": "code",
   "execution_count": 10,
   "metadata": {},
   "outputs": [],
   "source": [
    "from src.players import Player, Random, BadGuy, GoodGuy, EyeForEye, AdaptiveEyeForEye, SimpleMetaHeuristicGuy, GeneticGuy\n",
    "from src.generate_matrix import generate_matrix\n",
    "from src.game import play_tournament"
   ]
  },
  {
   "cell_type": "code",
   "execution_count": 11,
   "metadata": {},
   "outputs": [
    {
     "name": "stdout",
     "output_type": "stream",
     "text": [
      "0\n",
      "1\n",
      "2\n",
      "3\n",
      "4\n",
      "5\n",
      "6\n",
      "7\n",
      "8\n",
      "9\n"
     ]
    }
   ],
   "source": [
    "geneticguy = GeneticGuy()"
   ]
  },
  {
   "cell_type": "code",
   "execution_count": 12,
   "metadata": {},
   "outputs": [
    {
     "name": "stdout",
     "output_type": "stream",
     "text": [
      "0\n",
      "1\n",
      "2\n",
      "3\n",
      "4\n",
      "5\n",
      "6\n",
      "7\n",
      "8\n",
      "9\n"
     ]
    }
   ],
   "source": [
    "geneticguy2 = GeneticGuy()"
   ]
  },
  {
   "cell_type": "code",
   "execution_count": 18,
   "metadata": {},
   "outputs": [
    {
     "name": "stdout",
     "output_type": "stream",
     "text": [
      "Player 1 (GeneticGuy): 52 score\n",
      "Player 2 (GeneticGuy): 52 score\n"
     ]
    }
   ],
   "source": [
    "matrices = []\n",
    "\n",
    "for i in range(50):\n",
    "    matrices.append(generate_matrix())\n",
    "\n",
    "players = [geneticguy2,\n",
    "          geneticguy]\n",
    "\n",
    "for i in range(1):\n",
    "    play_tournament(players, matrices)\n",
    "\n",
    "for i, player in enumerate(players):\n",
    "    print(f\"Player {i + 1} ({player.__class__.__name__}): {player.score} score\")"
   ]
  }
 ],
 "metadata": {
  "kernelspec": {
   "display_name": "Python 3",
   "language": "python",
   "name": "python3"
  },
  "language_info": {
   "codemirror_mode": {
    "name": "ipython",
    "version": 3
   },
   "file_extension": ".py",
   "mimetype": "text/x-python",
   "name": "python",
   "nbconvert_exporter": "python",
   "pygments_lexer": "ipython3",
   "version": "3.9.undefined"
  }
 },
 "nbformat": 4,
 "nbformat_minor": 2
}
