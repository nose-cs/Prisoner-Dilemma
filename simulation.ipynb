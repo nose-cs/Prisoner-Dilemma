{
 "cells": [
  {
   "cell_type": "markdown",
   "metadata": {},
   "source": [
    "### Ejemplo de cómo crear cada jugador"
   ]
  },
  {
   "cell_type": "markdown",
   "metadata": {},
   "source": [
    "#### Estrategias clásicas"
   ]
  },
  {
   "cell_type": "code",
   "execution_count": null,
   "metadata": {},
   "outputs": [],
   "source": [
    "from src.players import BadGuy, RandomGuy, EyeForEye, GoodGuy, AdaptiveEyeForEye\n",
    "\n",
    "random_guy = RandomGuy()\n",
    "bad_guy = BadGuy()\n",
    "good_guy = GoodGuy()\n",
    "eye_for_eye = EyeForEye()\n",
    "multiple_eye_for_eye = AdaptiveEyeForEye()"
   ]
  },
  {
   "cell_type": "markdown",
   "metadata": {},
   "source": [
    "#### Nuestras estrategias"
   ]
  },
  {
   "cell_type": "code",
   "execution_count": null,
   "metadata": {},
   "outputs": [],
   "source": [
    "from src.players import FuzzyEyeForEye, FuzzyDeterministicEyeForEye, NashGuy, SimpleMetaHeuristicGuy, GeneticGuy, AnotherGeneticGuy\n",
    "import src.players.fuzzy_metrics as metrics\n",
    "\n",
    "fuzzy1 = FuzzyEyeForEye(metrics.FuzzyFunctions.envy)\n",
    "fuzzy2 = FuzzyEyeForEye(metrics.FuzzyFunctions.sub_joint)\n",
    "fuzzy3 = FuzzyEyeForEye(metrics.FuzzyFunctions.dif_sum_rows)\n",
    "fuzzy_deterministic1= FuzzyDeterministicEyeForEye(metrics.FuzzyFunctions.envy)\n",
    "fuzzy_deterministic2 = FuzzyDeterministicEyeForEye(metrics.FuzzyFunctions.sub_joint)\n",
    "fuzzy_deterministic3 = FuzzyDeterministicEyeForEye(metrics.FuzzyFunctions.dif_sum_rows)\n",
    "nash_guy = NashGuy()\n",
    "simple_metaheuristic = SimpleMetaHeuristicGuy()\n",
    "genetic_guy = GeneticGuy()\n",
    "genetic_guy2 = AnotherGeneticGuy()"
   ]
  },
  {
   "cell_type": "markdown",
   "metadata": {},
   "source": [
    "### Ejemplo de cómo obtener las matrices"
   ]
  },
  {
   "cell_type": "markdown",
   "metadata": {},
   "source": [
    "#### Especificando matrices\n",
    "\n",
    "En `src/data.json` puedes encontrar nuestra base de datos de matrices, para usarlas en el torneo simplemente debes pasar una lista con los title que aparecen en el JSON para las matrices que desea a la función siguiente."
   ]
  },
  {
   "cell_type": "code",
   "execution_count": null,
   "metadata": {},
   "outputs": [],
   "source": [
    "from src.generate_matrix import get_matrices\n",
    "\n",
    "matrices = get_matrices([\"Resolución de disputas en el sector de bienes raíces\",  \"Dilema del prisionero\"])"
   ]
  },
  {
   "cell_type": "markdown",
   "metadata": {},
   "source": [
    "#### Usando matrices random\n",
    "\n",
    "Para obtener n matrices aleatorias de nuestra base de datos simplemente llame a la función como se muestra a continuación."
   ]
  },
  {
   "cell_type": "code",
   "execution_count": null,
   "metadata": {},
   "outputs": [],
   "source": [
    "from src.generate_matrix import get_random_matrices\n",
    "\n",
    "matrices = get_random_matrices(count = 1000)"
   ]
  },
  {
   "cell_type": "markdown",
   "metadata": {},
   "source": [
    "### Ejemplo de cómo crear un torneo\n",
    "\n",
    "Para ejemplificar cómo crear un torneo, definimos un torneo clásico del dilema del prisionero.\n",
    "\n",
    "Corriendo la siguente celda se corre la simulación, si desea probar otras combinaciones de torneo simplemente \n",
    "cambie los jugadores o matrices a su antojo."
   ]
  },
  {
   "cell_type": "code",
   "execution_count": 5,
   "metadata": {},
   "outputs": [],
   "source": [
    "from src.generate_players import assign_names\n",
    "from src.players import BadGuy, RandomGuy, EyeForEye, GoodGuy, AdaptiveEyeForEye, FuzzyEyeForEye, FuzzyDeterministicEyeForEye, NashGuy, SimpleMetaHeuristicGuy, GeneticGuy, AnotherGeneticGuy\n",
    "import src.players.fuzzy_metrics as metrics\n",
    "from src.generate_matrix import get_random_matrices, get_matrices\n",
    "from src.game import Tournament, print_tournament_results\n",
    "\n",
    "\n",
    "players = assign_names([GoodGuy(),\n",
    "                        RandomGuy(), \n",
    "                        RandomGuy(), \n",
    "                        EyeForEye(), \n",
    "                        EyeForEye(),\n",
    "                        EyeForEye(),\n",
    "                        BadGuy(),\n",
    "                        BadGuy()])\n",
    "\n",
    "matrices = get_matrices([\"Dilema del prisionero\"] * 10)\n",
    "\n",
    "tournament = Tournament(players, matrices)\n",
    "\n",
    "for i in range(1):\n",
    "    tournament.play()\n",
    "    print_tournament_results(tournament, i + 1)"
   ]
  }
 ],
 "metadata": {
  "kernelspec": {
   "display_name": "Python 3",
   "language": "python",
   "name": "python3"
  },
  "language_info": {
   "codemirror_mode": {
    "name": "ipython",
    "version": 3
   },
   "file_extension": ".py",
   "mimetype": "text/x-python",
   "name": "python",
   "nbconvert_exporter": "python",
   "pygments_lexer": "ipython3",
   "version": "3.9.13"
  }
 },
 "nbformat": 4,
 "nbformat_minor": 2
}
