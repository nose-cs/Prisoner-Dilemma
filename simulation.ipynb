{
 "cells": [
  {
   "cell_type": "code",
   "execution_count": 1,
   "metadata": {},
   "outputs": [],
   "source": [
    "from players.player import Player\n",
    "from players.random import Random\n",
    "from players.bad_guy import BadGuy\n",
    "from players.good_guy import GoodGuy\n",
    "from players.eye_for_eye import EyeForEye, AdaptiveEyeForEye\n",
    "from players.meta_heuristic_guy import SimpleMetaHeuristicGuy\n",
    "from players.meta_heuristic_guy import GeneticGuy"
   ]
  },
  {
   "cell_type": "code",
   "execution_count": 2,
   "metadata": {},
   "outputs": [],
   "source": [
    "def play_round(matrix_vector, player1: Player, player2: Player, history1, history2, full_history1, full_history2):\n",
    "    action1 = player1.play(matrix_vector, full_history2, history2)\n",
    "    action2 = player2.play(matrix_vector, full_history1, history1)\n",
    "    \n",
    "    return action1, action2, matrix_vector[0][action1][action2]\n",
    "    \n",
    "\n",
    "def play_tournament(players: list[Player], matrices):\n",
    "    for player in players:\n",
    "        player.clear()\n",
    "\n",
    "    history = [[{} for j in range(len(players))] for i in range(len(players))]\n",
    "\n",
    "    for matrix, vector in matrices:\n",
    "        for i in range(len(players)):\n",
    "            for j in range(i + 1, len(players)):\n",
    "                player1 = players[i]\n",
    "                player2 = players[j]\n",
    "                \n",
    "                action1, action2, scores = play_round((matrix, vector), player1, player2, history[i][j], history[j][i], history[i], history[j])\n",
    "                \n",
    "                player1.sum_score((matrix, vector), action1, scores[0])\n",
    "                player2.sum_score((matrix, vector), action2, scores[1])\n",
    "\n",
    "                if vector in history[i][j]:\n",
    "                    history[i][j][vector].append(action1)\n",
    "                else:\n",
    "                    history[i][j][vector] = [action1]\n",
    "\n",
    "                if vector in history[j][i]:\n",
    "                    history[j][i][vector].append(action2)\n",
    "                else:\n",
    "                    history[j][i][vector] = [action2]"
   ]
  },
  {
   "cell_type": "code",
   "execution_count": 3,
   "metadata": {},
   "outputs": [
    {
     "name": "stdout",
     "output_type": "stream",
     "text": [
      "0\n",
      "1\n",
      "2\n",
      "3\n",
      "4\n",
      "5\n",
      "6\n",
      "7\n",
      "8\n",
      "9\n"
     ]
    }
   ],
   "source": [
    "geneticguy = GeneticGuy()"
   ]
  },
  {
   "cell_type": "code",
   "execution_count": 32,
   "metadata": {},
   "outputs": [
    {
     "name": "stdout",
     "output_type": "stream",
     "text": [
      "0\n",
      "1\n",
      "2\n",
      "3\n",
      "4\n",
      "5\n",
      "6\n",
      "7\n",
      "8\n",
      "9\n"
     ]
    }
   ],
   "source": [
    "geneticguy2 = GeneticGuy()"
   ]
  },
  {
   "cell_type": "code",
   "execution_count": 34,
   "metadata": {},
   "outputs": [
    {
     "name": "stdout",
     "output_type": "stream",
     "text": [
      "Player 1 (GeneticGuy): 52 score\n",
      "Player 2 (GeneticGuy): 52 score\n"
     ]
    }
   ],
   "source": [
    "import random\n",
    "from generate_matrix import generate_matrix\n",
    "\n",
    "matrices = []\n",
    "\n",
    "for i in range(50):\n",
    "    matrices.append(generate_matrix())\n",
    "\n",
    "players = [geneticguy2,\n",
    "          geneticguy]\n",
    "\n",
    "for i in range(1):\n",
    "    play_tournament(players, matrices)\n",
    "\n",
    "for i, player in enumerate(players):\n",
    "    print(f\"Player {i + 1} ({player.__class__.__name__}): {player.score} score\")"
   ]
  }
 ],
 "metadata": {
  "kernelspec": {
   "display_name": "Python 3",
   "language": "python",
   "name": "python3"
  },
  "language_info": {
   "codemirror_mode": {
    "name": "ipython",
    "version": 3
   },
   "file_extension": ".py",
   "mimetype": "text/x-python",
   "name": "python",
   "nbconvert_exporter": "python",
   "pygments_lexer": "ipython3",
   "version": "3.12.0"
  }
 },
 "nbformat": 4,
 "nbformat_minor": 2
}
