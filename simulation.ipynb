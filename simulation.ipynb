{
 "cells": [
  {
   "cell_type": "code",
   "execution_count": null,
   "metadata": {},
   "outputs": [],
   "source": [
    "from src.players import Player, Random, BadGuy, GoodGuy, EyeForEye, AdaptiveEyeForEye, SimpleMetaHeuristicGuy, GeneticGuy, NashGuy, FuzzyEyeForEye\n",
    "from src.generate_matrix import get_random_matrices\n",
    "from src.game import Tournament\n",
    "import src.players.metrics as metrics"
   ]
  },
  {
   "cell_type": "code",
   "execution_count": null,
   "metadata": {},
   "outputs": [],
   "source": [
    "def print_tournament_results(tournament: Tournament, index: int):\n",
    "    print(\"-\" * 50 + \"Tournament \" + str(index) + \"-\" * 50)\n",
    "\n",
    "    player_name = lambda p, i: player.name if player.name else f\"Player {i + 1}\"\n",
    "\n",
    "    print(\"Scores:\" + \"-\" * 50)\n",
    "    for i, player in enumerate(tournament.players):\n",
    "        print(f\"{player_name(player, i)} ({player.__class__.__name__}): {player.score} score\")\n",
    "\n",
    "    winner = tournament.get_winner()\n",
    "    print(\"Winner:\" + \"-\" * 50)\n",
    "    print(\n",
    "        f\"{player_name(winner, tournament.players.index(winner))} ({winner.__class__.__name__}): {winner.score} score\")\n",
    "\n",
    "    loser = tournament.get_loser()\n",
    "    print(\"Loser:\" + \"-\" * 50)\n",
    "    print(f\"{player_name(loser, tournament.players.index(loser))} ({loser.__class__.__name__}): {loser.score} score\")"
   ]
  },
  {
   "cell_type": "code",
   "execution_count": null,
   "metadata": {},
   "outputs": [],
   "source": [
    "matrices = get_random_matrices(100)\n",
    "\n",
    "players = [\n",
    "        Random(),\n",
    "        Random(),\n",
    "        Random(),\n",
    "        Random(),\n",
    "        EyeForEye(),\n",
    "        EyeForEye(),\n",
    "        EyeForEye(),\n",
    "        EyeForEye(),\n",
    "        BadGuy(),\n",
    "        BadGuy(),\n",
    "        FuzzyEyeForEye(metrics.FuzzyFunctions.envy),\n",
    "        FuzzyEyeForEye(metrics.FuzzyFunctions.sub_joint),\n",
    "        FuzzyEyeForEye(metrics.FuzzyFunctions.dif_sum_rows)\n",
    "        ]\n",
    "\n",
    "tournament = Tournament(players, matrices)\n",
    "\n",
    "for i in range(1):\n",
    "    tournament.play()\n",
    "    print_tournament_results(tournament, i + 1)"
   ]
  },
  {
   "cell_type": "code",
   "execution_count": null,
   "metadata": {},
   "outputs": [],
   "source": []
  }
 ],
 "metadata": {
  "kernelspec": {
   "display_name": "Python 3",
   "language": "python",
   "name": "python3"
  },
  "language_info": {
   "codemirror_mode": {
    "name": "ipython",
    "version": 3
   },
   "file_extension": ".py",
   "mimetype": "text/x-python",
   "name": "python",
   "nbconvert_exporter": "python",
   "pygments_lexer": "ipython3",
   "version": "3.9.13"
  }
 },
 "nbformat": 4,
 "nbformat_minor": 2
}
