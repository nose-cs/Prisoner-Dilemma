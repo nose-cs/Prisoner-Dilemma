{
 "cells": [
  {
   "cell_type": "code",
   "execution_count": null,
   "metadata": {},
   "outputs": [],
   "source": [
    "from src.players import Player, Random, BadGuy, GoodGuy, EyeForEye, AdaptiveEyeForEye, SimpleMetaHeuristicGuy, GeneticGuy, NashGuy\n",
    "from src.players.eye_for_eye import FuzzyEyeForEye\n",
    "from src.generate_matrix import get_random_matrices\n",
    "from src.game import Tournament\n",
    "from main import print_tournament_results\n",
    "import src.players.metrics as metrics"
   ]
  },
  {
   "cell_type": "code",
   "execution_count": null,
   "metadata": {},
   "outputs": [],
   "source": [
    "geneticguy = GeneticGuy()"
   ]
  },
  {
   "cell_type": "code",
   "execution_count": null,
   "metadata": {},
   "outputs": [],
   "source": [
    "geneticguy2 = GeneticGuy()"
   ]
  },
  {
   "cell_type": "code",
   "execution_count": null,
   "metadata": {},
   "outputs": [],
   "source": [
    "matrices = []\n",
    "\n",
    "for i in range(150):\n",
    "    matrices.append(get_random_matrices())\n",
    "\n",
    "players = [\n",
    "        Random(),\n",
    "        Random(),\n",
    "        Random(),\n",
    "        Random(),\n",
    "        EyeForEye(),\n",
    "        EyeForEye(),\n",
    "        EyeForEye(),\n",
    "        EyeForEye(),\n",
    "        BadGuy(),\n",
    "        BadGuy(),\n",
    "        FuzzyEyeForEye(metrics.FuzzyFunctions.envy),\n",
    "        FuzzyEyeForEye(metrics.FuzzyFunctions.envy),\n",
    "        FuzzyEyeForEye(metrics.FuzzyFunctions.sub_joint),\n",
    "        FuzzyEyeForEye(metrics.FuzzyFunctions.dif_sum_rows)\n",
    "        ]\n",
    "\n",
    "tournament = Tournament(players, matrices)\n",
    "\n",
    "for i in range(1):\n",
    "    tournament.play()\n",
    "    print_tournament_results(tournament, i + 1)"
   ]
  }
 ],
 "metadata": {
  "kernelspec": {
   "display_name": "Python 3",
   "language": "python",
   "name": "python3"
  },
  "language_info": {
   "codemirror_mode": {
    "name": "ipython",
    "version": 3
   },
   "file_extension": ".py",
   "mimetype": "text/x-python",
   "name": "python",
   "nbconvert_exporter": "python",
   "pygments_lexer": "ipython3",
   "version": "3.9.13"
  }
 },
 "nbformat": 4,
 "nbformat_minor": 2
}
